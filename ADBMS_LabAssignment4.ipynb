{
 "cells": [
  {
   "cell_type": "code",
   "execution_count": 1,
   "id": "b77f8de9",
   "metadata": {},
   "outputs": [],
   "source": [
    "#pip install mysql-connector-python"
   ]
  },
  {
   "cell_type": "code",
   "execution_count": 2,
   "id": "906c72ed",
   "metadata": {},
   "outputs": [],
   "source": [
    "import mysql.connector"
   ]
  },
  {
   "cell_type": "code",
   "execution_count": 3,
   "id": "f702c2f3",
   "metadata": {},
   "outputs": [],
   "source": [
    "from mysql.connector import pooling"
   ]
  },
  {
   "cell_type": "code",
   "execution_count": 4,
   "id": "4cc9f670",
   "metadata": {},
   "outputs": [],
   "source": [
    "cnx=mysql.connector.connect(\n",
    "host=\"localhost\",\n",
    "port=3306,\n",
    "user=\"root\",\n",
    "password=\"12345678\",\n",
    "database=\"adbms_lab\")"
   ]
  },
  {
   "cell_type": "code",
   "execution_count": 5,
   "id": "168f0375",
   "metadata": {},
   "outputs": [],
   "source": [
    "#create a cursor to execute sql queries\n",
    "cur=cnx.cursor()"
   ]
  },
  {
   "cell_type": "code",
   "execution_count": 6,
   "id": "421b7fec",
   "metadata": {},
   "outputs": [],
   "source": [
    "cur.execute(\"SELECT * FROM instructor;\")"
   ]
  },
  {
   "cell_type": "code",
   "execution_count": 7,
   "id": "21033d1e",
   "metadata": {},
   "outputs": [
    {
     "name": "stdout",
     "output_type": "stream",
     "text": [
      "(10101, 'Srinivasan', 'Computer Science', 65000.0)\n",
      "(10211, 'Smith', 'Biology', 66000.0)\n",
      "(10212, 'Tom', 'Biology', None)\n",
      "(12121, 'Wu', 'Finance', 90000.0)\n",
      "(15151, 'Mozart', 'Music', 40000.0)\n",
      "(22222, 'Einstein', 'Physics', 95000.0)\n",
      "(32343, 'El Said0', 'History', 60000.0)\n",
      "(33456, 'Gold', 'Physics', 87000.0)\n",
      "(45565, 'Katz', 'Computer Science', 75000.0)\n",
      "(58583, 'Califieri', 'History', 62000.0)\n",
      "(76543, 'Singh', 'Finance', 80000.0)\n",
      "(76766, 'Crick', 'Biology', 72000.0)\n",
      "(83821, 'Brandt', 'ComputerScience', 92000.0)\n",
      "(98345, 'Kim', 'ElectricalEngineering', 80000.0)\n"
     ]
    }
   ],
   "source": [
    "result = cur.fetchall()\n",
    "for row in result:\n",
    "    print(row)       "
   ]
  },
  {
   "cell_type": "code",
   "execution_count": 8,
   "id": "96bbb7e5",
   "metadata": {},
   "outputs": [],
   "source": [
    "cur.execute(\"SELECT * FROM instructor where dept_name='History';\")"
   ]
  },
  {
   "cell_type": "code",
   "execution_count": 9,
   "id": "2ca17545",
   "metadata": {},
   "outputs": [
    {
     "data": {
      "text/plain": [
       "[(32343, 'El Said0', 'History', 60000.0),\n",
       " (58583, 'Califieri', 'History', 62000.0)]"
      ]
     },
     "execution_count": 9,
     "metadata": {},
     "output_type": "execute_result"
    }
   ],
   "source": [
    "result = cur.fetchall()\n",
    "result  "
   ]
  },
  {
   "cell_type": "code",
   "execution_count": 10,
   "id": "70b747d8",
   "metadata": {},
   "outputs": [],
   "source": [
    "cur.execute(\"SELECT * FROM teaches;\")"
   ]
  },
  {
   "cell_type": "code",
   "execution_count": 11,
   "id": "bcd56028",
   "metadata": {},
   "outputs": [
    {
     "data": {
      "text/plain": [
       "[(10101, 'CS-101', 1, 'Fall', 2017),\n",
       " (10101, 'CS-315', 1, 'Spring', 2018),\n",
       " (10101, 'CS-347', 1, 'Fall', 2017),\n",
       " (12121, 'FIN-201', 1, 'Spring', 2018),\n",
       " (15151, 'MU-199', 1, 'Spring', 2018),\n",
       " (22222, 'HY-101', 1, 'Fall', 2017),\n",
       " (32343, 'HIS-351', 1, 'Spring', 2018),\n",
       " (45565, 'CS-101', 1, 'Spring', 2018),\n",
       " (45565, 'CS-319', 1, 'Spring', 2018),\n",
       " (76766, 'BIO-101', 1, 'Summer', 2017),\n",
       " (76766, 'BIO-301', 1, 'Summer', 2018),\n",
       " (83821, 'CS-190', 1, 'Spring', 2017),\n",
       " (83821, 'CS-190', 2, 'Spring', 2017),\n",
       " (83821, 'CS-319', 2, 'Spring', 2018),\n",
       " (98345, 'EE-181', 1, 'Spring', 2017)]"
      ]
     },
     "execution_count": 11,
     "metadata": {},
     "output_type": "execute_result"
    }
   ],
   "source": [
    "result = cur.fetchall()\n",
    "result "
   ]
  },
  {
   "cell_type": "code",
   "execution_count": 12,
   "id": "e8c082bf",
   "metadata": {},
   "outputs": [
    {
     "name": "stdout",
     "output_type": "stream",
     "text": [
      "(98345, 'Kim', 'ElectricalEngineering', 80000.0, 10101, 'CS-101', 1, 'Fall', 2017)\n",
      "(83821, 'Brandt', 'ComputerScience', 92000.0, 10101, 'CS-101', 1, 'Fall', 2017)\n",
      "(76766, 'Crick', 'Biology', 72000.0, 10101, 'CS-101', 1, 'Fall', 2017)\n",
      "(76543, 'Singh', 'Finance', 80000.0, 10101, 'CS-101', 1, 'Fall', 2017)\n",
      "(58583, 'Califieri', 'History', 62000.0, 10101, 'CS-101', 1, 'Fall', 2017)\n",
      "(45565, 'Katz', 'Computer Science', 75000.0, 10101, 'CS-101', 1, 'Fall', 2017)\n",
      "(33456, 'Gold', 'Physics', 87000.0, 10101, 'CS-101', 1, 'Fall', 2017)\n",
      "(32343, 'El Said0', 'History', 60000.0, 10101, 'CS-101', 1, 'Fall', 2017)\n",
      "(22222, 'Einstein', 'Physics', 95000.0, 10101, 'CS-101', 1, 'Fall', 2017)\n",
      "(15151, 'Mozart', 'Music', 40000.0, 10101, 'CS-101', 1, 'Fall', 2017)\n",
      "(12121, 'Wu', 'Finance', 90000.0, 10101, 'CS-101', 1, 'Fall', 2017)\n",
      "(10212, 'Tom', 'Biology', None, 10101, 'CS-101', 1, 'Fall', 2017)\n",
      "(10211, 'Smith', 'Biology', 66000.0, 10101, 'CS-101', 1, 'Fall', 2017)\n",
      "(10101, 'Srinivasan', 'Computer Science', 65000.0, 10101, 'CS-101', 1, 'Fall', 2017)\n",
      "(98345, 'Kim', 'ElectricalEngineering', 80000.0, 10101, 'CS-315', 1, 'Spring', 2018)\n",
      "(83821, 'Brandt', 'ComputerScience', 92000.0, 10101, 'CS-315', 1, 'Spring', 2018)\n",
      "(76766, 'Crick', 'Biology', 72000.0, 10101, 'CS-315', 1, 'Spring', 2018)\n",
      "(76543, 'Singh', 'Finance', 80000.0, 10101, 'CS-315', 1, 'Spring', 2018)\n",
      "(58583, 'Califieri', 'History', 62000.0, 10101, 'CS-315', 1, 'Spring', 2018)\n",
      "(45565, 'Katz', 'Computer Science', 75000.0, 10101, 'CS-315', 1, 'Spring', 2018)\n",
      "(33456, 'Gold', 'Physics', 87000.0, 10101, 'CS-315', 1, 'Spring', 2018)\n",
      "(32343, 'El Said0', 'History', 60000.0, 10101, 'CS-315', 1, 'Spring', 2018)\n",
      "(22222, 'Einstein', 'Physics', 95000.0, 10101, 'CS-315', 1, 'Spring', 2018)\n",
      "(15151, 'Mozart', 'Music', 40000.0, 10101, 'CS-315', 1, 'Spring', 2018)\n",
      "(12121, 'Wu', 'Finance', 90000.0, 10101, 'CS-315', 1, 'Spring', 2018)\n",
      "(10212, 'Tom', 'Biology', None, 10101, 'CS-315', 1, 'Spring', 2018)\n",
      "(10211, 'Smith', 'Biology', 66000.0, 10101, 'CS-315', 1, 'Spring', 2018)\n",
      "(10101, 'Srinivasan', 'Computer Science', 65000.0, 10101, 'CS-315', 1, 'Spring', 2018)\n",
      "(98345, 'Kim', 'ElectricalEngineering', 80000.0, 10101, 'CS-347', 1, 'Fall', 2017)\n",
      "(83821, 'Brandt', 'ComputerScience', 92000.0, 10101, 'CS-347', 1, 'Fall', 2017)\n",
      "(76766, 'Crick', 'Biology', 72000.0, 10101, 'CS-347', 1, 'Fall', 2017)\n",
      "(76543, 'Singh', 'Finance', 80000.0, 10101, 'CS-347', 1, 'Fall', 2017)\n",
      "(58583, 'Califieri', 'History', 62000.0, 10101, 'CS-347', 1, 'Fall', 2017)\n",
      "(45565, 'Katz', 'Computer Science', 75000.0, 10101, 'CS-347', 1, 'Fall', 2017)\n",
      "(33456, 'Gold', 'Physics', 87000.0, 10101, 'CS-347', 1, 'Fall', 2017)\n",
      "(32343, 'El Said0', 'History', 60000.0, 10101, 'CS-347', 1, 'Fall', 2017)\n",
      "(22222, 'Einstein', 'Physics', 95000.0, 10101, 'CS-347', 1, 'Fall', 2017)\n",
      "(15151, 'Mozart', 'Music', 40000.0, 10101, 'CS-347', 1, 'Fall', 2017)\n",
      "(12121, 'Wu', 'Finance', 90000.0, 10101, 'CS-347', 1, 'Fall', 2017)\n",
      "(10212, 'Tom', 'Biology', None, 10101, 'CS-347', 1, 'Fall', 2017)\n",
      "(10211, 'Smith', 'Biology', 66000.0, 10101, 'CS-347', 1, 'Fall', 2017)\n",
      "(10101, 'Srinivasan', 'Computer Science', 65000.0, 10101, 'CS-347', 1, 'Fall', 2017)\n",
      "(98345, 'Kim', 'ElectricalEngineering', 80000.0, 12121, 'FIN-201', 1, 'Spring', 2018)\n",
      "(83821, 'Brandt', 'ComputerScience', 92000.0, 12121, 'FIN-201', 1, 'Spring', 2018)\n",
      "(76766, 'Crick', 'Biology', 72000.0, 12121, 'FIN-201', 1, 'Spring', 2018)\n",
      "(76543, 'Singh', 'Finance', 80000.0, 12121, 'FIN-201', 1, 'Spring', 2018)\n",
      "(58583, 'Califieri', 'History', 62000.0, 12121, 'FIN-201', 1, 'Spring', 2018)\n",
      "(45565, 'Katz', 'Computer Science', 75000.0, 12121, 'FIN-201', 1, 'Spring', 2018)\n",
      "(33456, 'Gold', 'Physics', 87000.0, 12121, 'FIN-201', 1, 'Spring', 2018)\n",
      "(32343, 'El Said0', 'History', 60000.0, 12121, 'FIN-201', 1, 'Spring', 2018)\n",
      "(22222, 'Einstein', 'Physics', 95000.0, 12121, 'FIN-201', 1, 'Spring', 2018)\n",
      "(15151, 'Mozart', 'Music', 40000.0, 12121, 'FIN-201', 1, 'Spring', 2018)\n",
      "(12121, 'Wu', 'Finance', 90000.0, 12121, 'FIN-201', 1, 'Spring', 2018)\n",
      "(10212, 'Tom', 'Biology', None, 12121, 'FIN-201', 1, 'Spring', 2018)\n",
      "(10211, 'Smith', 'Biology', 66000.0, 12121, 'FIN-201', 1, 'Spring', 2018)\n",
      "(10101, 'Srinivasan', 'Computer Science', 65000.0, 12121, 'FIN-201', 1, 'Spring', 2018)\n",
      "(98345, 'Kim', 'ElectricalEngineering', 80000.0, 15151, 'MU-199', 1, 'Spring', 2018)\n",
      "(83821, 'Brandt', 'ComputerScience', 92000.0, 15151, 'MU-199', 1, 'Spring', 2018)\n",
      "(76766, 'Crick', 'Biology', 72000.0, 15151, 'MU-199', 1, 'Spring', 2018)\n",
      "(76543, 'Singh', 'Finance', 80000.0, 15151, 'MU-199', 1, 'Spring', 2018)\n",
      "(58583, 'Califieri', 'History', 62000.0, 15151, 'MU-199', 1, 'Spring', 2018)\n",
      "(45565, 'Katz', 'Computer Science', 75000.0, 15151, 'MU-199', 1, 'Spring', 2018)\n",
      "(33456, 'Gold', 'Physics', 87000.0, 15151, 'MU-199', 1, 'Spring', 2018)\n",
      "(32343, 'El Said0', 'History', 60000.0, 15151, 'MU-199', 1, 'Spring', 2018)\n",
      "(22222, 'Einstein', 'Physics', 95000.0, 15151, 'MU-199', 1, 'Spring', 2018)\n",
      "(15151, 'Mozart', 'Music', 40000.0, 15151, 'MU-199', 1, 'Spring', 2018)\n",
      "(12121, 'Wu', 'Finance', 90000.0, 15151, 'MU-199', 1, 'Spring', 2018)\n",
      "(10212, 'Tom', 'Biology', None, 15151, 'MU-199', 1, 'Spring', 2018)\n",
      "(10211, 'Smith', 'Biology', 66000.0, 15151, 'MU-199', 1, 'Spring', 2018)\n",
      "(10101, 'Srinivasan', 'Computer Science', 65000.0, 15151, 'MU-199', 1, 'Spring', 2018)\n",
      "(98345, 'Kim', 'ElectricalEngineering', 80000.0, 22222, 'HY-101', 1, 'Fall', 2017)\n",
      "(83821, 'Brandt', 'ComputerScience', 92000.0, 22222, 'HY-101', 1, 'Fall', 2017)\n",
      "(76766, 'Crick', 'Biology', 72000.0, 22222, 'HY-101', 1, 'Fall', 2017)\n",
      "(76543, 'Singh', 'Finance', 80000.0, 22222, 'HY-101', 1, 'Fall', 2017)\n",
      "(58583, 'Califieri', 'History', 62000.0, 22222, 'HY-101', 1, 'Fall', 2017)\n",
      "(45565, 'Katz', 'Computer Science', 75000.0, 22222, 'HY-101', 1, 'Fall', 2017)\n",
      "(33456, 'Gold', 'Physics', 87000.0, 22222, 'HY-101', 1, 'Fall', 2017)\n",
      "(32343, 'El Said0', 'History', 60000.0, 22222, 'HY-101', 1, 'Fall', 2017)\n",
      "(22222, 'Einstein', 'Physics', 95000.0, 22222, 'HY-101', 1, 'Fall', 2017)\n",
      "(15151, 'Mozart', 'Music', 40000.0, 22222, 'HY-101', 1, 'Fall', 2017)\n",
      "(12121, 'Wu', 'Finance', 90000.0, 22222, 'HY-101', 1, 'Fall', 2017)\n",
      "(10212, 'Tom', 'Biology', None, 22222, 'HY-101', 1, 'Fall', 2017)\n",
      "(10211, 'Smith', 'Biology', 66000.0, 22222, 'HY-101', 1, 'Fall', 2017)\n",
      "(10101, 'Srinivasan', 'Computer Science', 65000.0, 22222, 'HY-101', 1, 'Fall', 2017)\n",
      "(98345, 'Kim', 'ElectricalEngineering', 80000.0, 32343, 'HIS-351', 1, 'Spring', 2018)\n",
      "(83821, 'Brandt', 'ComputerScience', 92000.0, 32343, 'HIS-351', 1, 'Spring', 2018)\n",
      "(76766, 'Crick', 'Biology', 72000.0, 32343, 'HIS-351', 1, 'Spring', 2018)\n",
      "(76543, 'Singh', 'Finance', 80000.0, 32343, 'HIS-351', 1, 'Spring', 2018)\n",
      "(58583, 'Califieri', 'History', 62000.0, 32343, 'HIS-351', 1, 'Spring', 2018)\n",
      "(45565, 'Katz', 'Computer Science', 75000.0, 32343, 'HIS-351', 1, 'Spring', 2018)\n",
      "(33456, 'Gold', 'Physics', 87000.0, 32343, 'HIS-351', 1, 'Spring', 2018)\n",
      "(32343, 'El Said0', 'History', 60000.0, 32343, 'HIS-351', 1, 'Spring', 2018)\n",
      "(22222, 'Einstein', 'Physics', 95000.0, 32343, 'HIS-351', 1, 'Spring', 2018)\n",
      "(15151, 'Mozart', 'Music', 40000.0, 32343, 'HIS-351', 1, 'Spring', 2018)\n",
      "(12121, 'Wu', 'Finance', 90000.0, 32343, 'HIS-351', 1, 'Spring', 2018)\n",
      "(10212, 'Tom', 'Biology', None, 32343, 'HIS-351', 1, 'Spring', 2018)\n",
      "(10211, 'Smith', 'Biology', 66000.0, 32343, 'HIS-351', 1, 'Spring', 2018)\n",
      "(10101, 'Srinivasan', 'Computer Science', 65000.0, 32343, 'HIS-351', 1, 'Spring', 2018)\n",
      "(98345, 'Kim', 'ElectricalEngineering', 80000.0, 45565, 'CS-101', 1, 'Spring', 2018)\n",
      "(83821, 'Brandt', 'ComputerScience', 92000.0, 45565, 'CS-101', 1, 'Spring', 2018)\n",
      "(76766, 'Crick', 'Biology', 72000.0, 45565, 'CS-101', 1, 'Spring', 2018)\n",
      "(76543, 'Singh', 'Finance', 80000.0, 45565, 'CS-101', 1, 'Spring', 2018)\n",
      "(58583, 'Califieri', 'History', 62000.0, 45565, 'CS-101', 1, 'Spring', 2018)\n",
      "(45565, 'Katz', 'Computer Science', 75000.0, 45565, 'CS-101', 1, 'Spring', 2018)\n",
      "(33456, 'Gold', 'Physics', 87000.0, 45565, 'CS-101', 1, 'Spring', 2018)\n",
      "(32343, 'El Said0', 'History', 60000.0, 45565, 'CS-101', 1, 'Spring', 2018)\n",
      "(22222, 'Einstein', 'Physics', 95000.0, 45565, 'CS-101', 1, 'Spring', 2018)\n",
      "(15151, 'Mozart', 'Music', 40000.0, 45565, 'CS-101', 1, 'Spring', 2018)\n",
      "(12121, 'Wu', 'Finance', 90000.0, 45565, 'CS-101', 1, 'Spring', 2018)\n",
      "(10212, 'Tom', 'Biology', None, 45565, 'CS-101', 1, 'Spring', 2018)\n",
      "(10211, 'Smith', 'Biology', 66000.0, 45565, 'CS-101', 1, 'Spring', 2018)\n",
      "(10101, 'Srinivasan', 'Computer Science', 65000.0, 45565, 'CS-101', 1, 'Spring', 2018)\n",
      "(98345, 'Kim', 'ElectricalEngineering', 80000.0, 45565, 'CS-319', 1, 'Spring', 2018)\n",
      "(83821, 'Brandt', 'ComputerScience', 92000.0, 45565, 'CS-319', 1, 'Spring', 2018)\n",
      "(76766, 'Crick', 'Biology', 72000.0, 45565, 'CS-319', 1, 'Spring', 2018)\n",
      "(76543, 'Singh', 'Finance', 80000.0, 45565, 'CS-319', 1, 'Spring', 2018)\n",
      "(58583, 'Califieri', 'History', 62000.0, 45565, 'CS-319', 1, 'Spring', 2018)\n",
      "(45565, 'Katz', 'Computer Science', 75000.0, 45565, 'CS-319', 1, 'Spring', 2018)\n",
      "(33456, 'Gold', 'Physics', 87000.0, 45565, 'CS-319', 1, 'Spring', 2018)\n",
      "(32343, 'El Said0', 'History', 60000.0, 45565, 'CS-319', 1, 'Spring', 2018)\n",
      "(22222, 'Einstein', 'Physics', 95000.0, 45565, 'CS-319', 1, 'Spring', 2018)\n",
      "(15151, 'Mozart', 'Music', 40000.0, 45565, 'CS-319', 1, 'Spring', 2018)\n",
      "(12121, 'Wu', 'Finance', 90000.0, 45565, 'CS-319', 1, 'Spring', 2018)\n",
      "(10212, 'Tom', 'Biology', None, 45565, 'CS-319', 1, 'Spring', 2018)\n",
      "(10211, 'Smith', 'Biology', 66000.0, 45565, 'CS-319', 1, 'Spring', 2018)\n",
      "(10101, 'Srinivasan', 'Computer Science', 65000.0, 45565, 'CS-319', 1, 'Spring', 2018)\n",
      "(98345, 'Kim', 'ElectricalEngineering', 80000.0, 76766, 'BIO-101', 1, 'Summer', 2017)\n",
      "(83821, 'Brandt', 'ComputerScience', 92000.0, 76766, 'BIO-101', 1, 'Summer', 2017)\n",
      "(76766, 'Crick', 'Biology', 72000.0, 76766, 'BIO-101', 1, 'Summer', 2017)\n",
      "(76543, 'Singh', 'Finance', 80000.0, 76766, 'BIO-101', 1, 'Summer', 2017)\n",
      "(58583, 'Califieri', 'History', 62000.0, 76766, 'BIO-101', 1, 'Summer', 2017)\n",
      "(45565, 'Katz', 'Computer Science', 75000.0, 76766, 'BIO-101', 1, 'Summer', 2017)\n",
      "(33456, 'Gold', 'Physics', 87000.0, 76766, 'BIO-101', 1, 'Summer', 2017)\n",
      "(32343, 'El Said0', 'History', 60000.0, 76766, 'BIO-101', 1, 'Summer', 2017)\n",
      "(22222, 'Einstein', 'Physics', 95000.0, 76766, 'BIO-101', 1, 'Summer', 2017)\n",
      "(15151, 'Mozart', 'Music', 40000.0, 76766, 'BIO-101', 1, 'Summer', 2017)\n",
      "(12121, 'Wu', 'Finance', 90000.0, 76766, 'BIO-101', 1, 'Summer', 2017)\n",
      "(10212, 'Tom', 'Biology', None, 76766, 'BIO-101', 1, 'Summer', 2017)\n",
      "(10211, 'Smith', 'Biology', 66000.0, 76766, 'BIO-101', 1, 'Summer', 2017)\n",
      "(10101, 'Srinivasan', 'Computer Science', 65000.0, 76766, 'BIO-101', 1, 'Summer', 2017)\n",
      "(98345, 'Kim', 'ElectricalEngineering', 80000.0, 76766, 'BIO-301', 1, 'Summer', 2018)\n",
      "(83821, 'Brandt', 'ComputerScience', 92000.0, 76766, 'BIO-301', 1, 'Summer', 2018)\n",
      "(76766, 'Crick', 'Biology', 72000.0, 76766, 'BIO-301', 1, 'Summer', 2018)\n",
      "(76543, 'Singh', 'Finance', 80000.0, 76766, 'BIO-301', 1, 'Summer', 2018)\n",
      "(58583, 'Califieri', 'History', 62000.0, 76766, 'BIO-301', 1, 'Summer', 2018)\n",
      "(45565, 'Katz', 'Computer Science', 75000.0, 76766, 'BIO-301', 1, 'Summer', 2018)\n",
      "(33456, 'Gold', 'Physics', 87000.0, 76766, 'BIO-301', 1, 'Summer', 2018)\n",
      "(32343, 'El Said0', 'History', 60000.0, 76766, 'BIO-301', 1, 'Summer', 2018)\n",
      "(22222, 'Einstein', 'Physics', 95000.0, 76766, 'BIO-301', 1, 'Summer', 2018)\n",
      "(15151, 'Mozart', 'Music', 40000.0, 76766, 'BIO-301', 1, 'Summer', 2018)\n",
      "(12121, 'Wu', 'Finance', 90000.0, 76766, 'BIO-301', 1, 'Summer', 2018)\n",
      "(10212, 'Tom', 'Biology', None, 76766, 'BIO-301', 1, 'Summer', 2018)\n",
      "(10211, 'Smith', 'Biology', 66000.0, 76766, 'BIO-301', 1, 'Summer', 2018)\n",
      "(10101, 'Srinivasan', 'Computer Science', 65000.0, 76766, 'BIO-301', 1, 'Summer', 2018)\n",
      "(98345, 'Kim', 'ElectricalEngineering', 80000.0, 83821, 'CS-190', 1, 'Spring', 2017)\n",
      "(83821, 'Brandt', 'ComputerScience', 92000.0, 83821, 'CS-190', 1, 'Spring', 2017)\n",
      "(76766, 'Crick', 'Biology', 72000.0, 83821, 'CS-190', 1, 'Spring', 2017)\n",
      "(76543, 'Singh', 'Finance', 80000.0, 83821, 'CS-190', 1, 'Spring', 2017)\n",
      "(58583, 'Califieri', 'History', 62000.0, 83821, 'CS-190', 1, 'Spring', 2017)\n",
      "(45565, 'Katz', 'Computer Science', 75000.0, 83821, 'CS-190', 1, 'Spring', 2017)\n",
      "(33456, 'Gold', 'Physics', 87000.0, 83821, 'CS-190', 1, 'Spring', 2017)\n",
      "(32343, 'El Said0', 'History', 60000.0, 83821, 'CS-190', 1, 'Spring', 2017)\n",
      "(22222, 'Einstein', 'Physics', 95000.0, 83821, 'CS-190', 1, 'Spring', 2017)\n",
      "(15151, 'Mozart', 'Music', 40000.0, 83821, 'CS-190', 1, 'Spring', 2017)\n",
      "(12121, 'Wu', 'Finance', 90000.0, 83821, 'CS-190', 1, 'Spring', 2017)\n",
      "(10212, 'Tom', 'Biology', None, 83821, 'CS-190', 1, 'Spring', 2017)\n",
      "(10211, 'Smith', 'Biology', 66000.0, 83821, 'CS-190', 1, 'Spring', 2017)\n",
      "(10101, 'Srinivasan', 'Computer Science', 65000.0, 83821, 'CS-190', 1, 'Spring', 2017)\n",
      "(98345, 'Kim', 'ElectricalEngineering', 80000.0, 83821, 'CS-190', 2, 'Spring', 2017)\n",
      "(83821, 'Brandt', 'ComputerScience', 92000.0, 83821, 'CS-190', 2, 'Spring', 2017)\n",
      "(76766, 'Crick', 'Biology', 72000.0, 83821, 'CS-190', 2, 'Spring', 2017)\n",
      "(76543, 'Singh', 'Finance', 80000.0, 83821, 'CS-190', 2, 'Spring', 2017)\n",
      "(58583, 'Califieri', 'History', 62000.0, 83821, 'CS-190', 2, 'Spring', 2017)\n",
      "(45565, 'Katz', 'Computer Science', 75000.0, 83821, 'CS-190', 2, 'Spring', 2017)\n",
      "(33456, 'Gold', 'Physics', 87000.0, 83821, 'CS-190', 2, 'Spring', 2017)\n",
      "(32343, 'El Said0', 'History', 60000.0, 83821, 'CS-190', 2, 'Spring', 2017)\n",
      "(22222, 'Einstein', 'Physics', 95000.0, 83821, 'CS-190', 2, 'Spring', 2017)\n",
      "(15151, 'Mozart', 'Music', 40000.0, 83821, 'CS-190', 2, 'Spring', 2017)\n",
      "(12121, 'Wu', 'Finance', 90000.0, 83821, 'CS-190', 2, 'Spring', 2017)\n",
      "(10212, 'Tom', 'Biology', None, 83821, 'CS-190', 2, 'Spring', 2017)\n",
      "(10211, 'Smith', 'Biology', 66000.0, 83821, 'CS-190', 2, 'Spring', 2017)\n",
      "(10101, 'Srinivasan', 'Computer Science', 65000.0, 83821, 'CS-190', 2, 'Spring', 2017)\n",
      "(98345, 'Kim', 'ElectricalEngineering', 80000.0, 83821, 'CS-319', 2, 'Spring', 2018)\n",
      "(83821, 'Brandt', 'ComputerScience', 92000.0, 83821, 'CS-319', 2, 'Spring', 2018)\n",
      "(76766, 'Crick', 'Biology', 72000.0, 83821, 'CS-319', 2, 'Spring', 2018)\n",
      "(76543, 'Singh', 'Finance', 80000.0, 83821, 'CS-319', 2, 'Spring', 2018)\n",
      "(58583, 'Califieri', 'History', 62000.0, 83821, 'CS-319', 2, 'Spring', 2018)\n",
      "(45565, 'Katz', 'Computer Science', 75000.0, 83821, 'CS-319', 2, 'Spring', 2018)\n",
      "(33456, 'Gold', 'Physics', 87000.0, 83821, 'CS-319', 2, 'Spring', 2018)\n",
      "(32343, 'El Said0', 'History', 60000.0, 83821, 'CS-319', 2, 'Spring', 2018)\n",
      "(22222, 'Einstein', 'Physics', 95000.0, 83821, 'CS-319', 2, 'Spring', 2018)\n",
      "(15151, 'Mozart', 'Music', 40000.0, 83821, 'CS-319', 2, 'Spring', 2018)\n",
      "(12121, 'Wu', 'Finance', 90000.0, 83821, 'CS-319', 2, 'Spring', 2018)\n",
      "(10212, 'Tom', 'Biology', None, 83821, 'CS-319', 2, 'Spring', 2018)\n",
      "(10211, 'Smith', 'Biology', 66000.0, 83821, 'CS-319', 2, 'Spring', 2018)\n",
      "(10101, 'Srinivasan', 'Computer Science', 65000.0, 83821, 'CS-319', 2, 'Spring', 2018)\n",
      "(98345, 'Kim', 'ElectricalEngineering', 80000.0, 98345, 'EE-181', 1, 'Spring', 2017)\n",
      "(83821, 'Brandt', 'ComputerScience', 92000.0, 98345, 'EE-181', 1, 'Spring', 2017)\n",
      "(76766, 'Crick', 'Biology', 72000.0, 98345, 'EE-181', 1, 'Spring', 2017)\n",
      "(76543, 'Singh', 'Finance', 80000.0, 98345, 'EE-181', 1, 'Spring', 2017)\n",
      "(58583, 'Califieri', 'History', 62000.0, 98345, 'EE-181', 1, 'Spring', 2017)\n",
      "(45565, 'Katz', 'Computer Science', 75000.0, 98345, 'EE-181', 1, 'Spring', 2017)\n",
      "(33456, 'Gold', 'Physics', 87000.0, 98345, 'EE-181', 1, 'Spring', 2017)\n",
      "(32343, 'El Said0', 'History', 60000.0, 98345, 'EE-181', 1, 'Spring', 2017)\n",
      "(22222, 'Einstein', 'Physics', 95000.0, 98345, 'EE-181', 1, 'Spring', 2017)\n",
      "(15151, 'Mozart', 'Music', 40000.0, 98345, 'EE-181', 1, 'Spring', 2017)\n",
      "(12121, 'Wu', 'Finance', 90000.0, 98345, 'EE-181', 1, 'Spring', 2017)\n",
      "(10212, 'Tom', 'Biology', None, 98345, 'EE-181', 1, 'Spring', 2017)\n",
      "(10211, 'Smith', 'Biology', 66000.0, 98345, 'EE-181', 1, 'Spring', 2017)\n",
      "(10101, 'Srinivasan', 'Computer Science', 65000.0, 98345, 'EE-181', 1, 'Spring', 2017)\n"
     ]
    }
   ],
   "source": [
    "cur.execute(\"SELECT * FROM instructor CROSS JOIN teaches;\")\n",
    "result=cur.fetchall()\n",
    "for row in result:\n",
    "    print(row)  "
   ]
  },
  {
   "cell_type": "code",
   "execution_count": 15,
   "id": "cab94ea2",
   "metadata": {},
   "outputs": [
    {
     "name": "stdout",
     "output_type": "stream",
     "text": [
      "('Srinivasan',)\n",
      "('Wu',)\n",
      "('Mozart',)\n",
      "('Einstein',)\n",
      "('El Said0',)\n",
      "('Katz',)\n",
      "('Crick',)\n",
      "('Brandt',)\n",
      "('Kim',)\n"
     ]
    }
   ],
   "source": [
    "cur.execute(\"select distinct instructor.name from instructor cross join teaches where instructor.id=teaches.id;\")\n",
    "a=cur.fetchall()\n",
    "for i in a:\n",
    "    print(i)"
   ]
  },
  {
   "cell_type": "code",
   "execution_count": 16,
   "id": "9bbce089",
   "metadata": {},
   "outputs": [],
   "source": [
    "cur.execute(\"select name from instructor where name like '%dar%';\")\n",
    "b=cur.fetchall()\n",
    "for i in b:\n",
    "    print(i)"
   ]
  },
  {
   "cell_type": "code",
   "execution_count": 17,
   "id": "62e4cc7b",
   "metadata": {},
   "outputs": [
    {
     "name": "stdout",
     "output_type": "stream",
     "text": [
      "('Wu',)\n",
      "('Einstein',)\n",
      "('Brandt',)\n"
     ]
    }
   ],
   "source": [
    "cur.execute(\"select name from instructor where salary>=90000 and salary<=100000;\")\n",
    "x=cur.fetchall()\n",
    "for i in x:\n",
    "    print(i)"
   ]
  },
  {
   "cell_type": "code",
   "execution_count": 19,
   "id": "d706fbbc",
   "metadata": {},
   "outputs": [],
   "source": [
    "cnx.commit()"
   ]
  },
  {
   "cell_type": "raw",
   "id": "537d8df5",
   "metadata": {},
   "source": [
    "cur.close()\n",
    "cnx.close()"
   ]
  }
 ],
 "metadata": {
  "kernelspec": {
   "display_name": "Python 3 (ipykernel)",
   "language": "python",
   "name": "python3"
  },
  "language_info": {
   "codemirror_mode": {
    "name": "ipython",
    "version": 3
   },
   "file_extension": ".py",
   "mimetype": "text/x-python",
   "name": "python",
   "nbconvert_exporter": "python",
   "pygments_lexer": "ipython3",
   "version": "3.11.5"
  }
 },
 "nbformat": 4,
 "nbformat_minor": 5
}
