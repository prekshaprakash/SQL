{
 "cells": [
  {
   "cell_type": "markdown",
   "id": "526d0b14",
   "metadata": {},
   "source": [
    "# Preksha Prakash 23MB0046"
   ]
  },
  {
   "cell_type": "code",
   "execution_count": 1,
   "id": "1e95ddeb",
   "metadata": {},
   "outputs": [],
   "source": [
    "import mysql.connector"
   ]
  },
  {
   "cell_type": "code",
   "execution_count": 2,
   "id": "7cd47938",
   "metadata": {},
   "outputs": [],
   "source": [
    "import pandas as pd"
   ]
  },
  {
   "cell_type": "code",
   "execution_count": 3,
   "id": "74092c12",
   "metadata": {},
   "outputs": [],
   "source": [
    "cnx=mysql.connector.connect(\n",
    "host=\"localhost\",\n",
    "port=3306,\n",
    "user=\"root\",\n",
    "password=\"12345678\",\n",
    "database=\"adbms_lab\")"
   ]
  },
  {
   "cell_type": "code",
   "execution_count": 4,
   "id": "fa32d29d",
   "metadata": {},
   "outputs": [],
   "source": [
    "cur=cnx.cursor()"
   ]
  },
  {
   "cell_type": "code",
   "execution_count": 5,
   "id": "3e7d2329",
   "metadata": {},
   "outputs": [],
   "source": [
    "import time"
   ]
  },
  {
   "cell_type": "code",
   "execution_count": 6,
   "id": "4c121e4a",
   "metadata": {},
   "outputs": [],
   "source": [
    "starttime_sql=time.time()"
   ]
  },
  {
   "cell_type": "code",
   "execution_count": 7,
   "id": "9a607005",
   "metadata": {},
   "outputs": [],
   "source": [
    "cur.execute(\"SELECT name,teaches.course_id from instructor left outer join teaches on instructor.id=teaches.id;\")"
   ]
  },
  {
   "cell_type": "code",
   "execution_count": 8,
   "id": "ff9f2e82",
   "metadata": {},
   "outputs": [],
   "source": [
    "endtime_sql=time.time()"
   ]
  },
  {
   "cell_type": "code",
   "execution_count": 9,
   "id": "76a69afb",
   "metadata": {},
   "outputs": [],
   "source": [
    "execution_time_sql = endtime_sql - starttime_sql"
   ]
  },
  {
   "cell_type": "code",
   "execution_count": 10,
   "id": "1f175e23",
   "metadata": {},
   "outputs": [],
   "source": [
    "data_instructor=pd.read_csv(\"instructor.csv\")"
   ]
  },
  {
   "cell_type": "code",
   "execution_count": 11,
   "id": "3253962d",
   "metadata": {},
   "outputs": [],
   "source": [
    "data_teaches=pd.read_csv(\"teaches.csv\")"
   ]
  },
  {
   "cell_type": "code",
   "execution_count": 12,
   "id": "c8e8d3b4",
   "metadata": {},
   "outputs": [],
   "source": [
    "starttime_py=time.time()"
   ]
  },
  {
   "cell_type": "code",
   "execution_count": 13,
   "id": "368fe281",
   "metadata": {},
   "outputs": [],
   "source": [
    "result = pd.merge(data_instructor, data_teaches, left_on='id', right_on='id',how='left')"
   ]
  },
  {
   "cell_type": "code",
   "execution_count": 14,
   "id": "c7791952",
   "metadata": {},
   "outputs": [],
   "source": [
    "endtime_py=time.time()"
   ]
  },
  {
   "cell_type": "code",
   "execution_count": 15,
   "id": "0a12c1bd",
   "metadata": {},
   "outputs": [],
   "source": [
    "execution_time_py = endtime_py - starttime_py"
   ]
  },
  {
   "cell_type": "code",
   "execution_count": 16,
   "id": "241d462a",
   "metadata": {},
   "outputs": [
    {
     "data": {
      "text/plain": [
       "0.01948690414428711"
      ]
     },
     "execution_count": 16,
     "metadata": {},
     "output_type": "execute_result"
    }
   ],
   "source": [
    "execution_time_sql"
   ]
  },
  {
   "cell_type": "code",
   "execution_count": 17,
   "id": "7a26ff3f",
   "metadata": {},
   "outputs": [
    {
     "data": {
      "text/plain": [
       "0.02782440185546875"
      ]
     },
     "execution_count": 17,
     "metadata": {},
     "output_type": "execute_result"
    }
   ],
   "source": [
    "execution_time_py"
   ]
  },
  {
   "cell_type": "code",
   "execution_count": 18,
   "id": "0758de81",
   "metadata": {},
   "outputs": [],
   "source": [
    "time_difference = execution_time_py-execution_time_sql"
   ]
  },
  {
   "cell_type": "code",
   "execution_count": 19,
   "id": "bee72b18",
   "metadata": {},
   "outputs": [
    {
     "data": {
      "text/plain": [
       "0.00833749771118164"
      ]
     },
     "execution_count": 19,
     "metadata": {},
     "output_type": "execute_result"
    }
   ],
   "source": [
    "time_difference"
   ]
  },
  {
   "cell_type": "code",
   "execution_count": 22,
   "id": "cf7d2d71",
   "metadata": {},
   "outputs": [],
   "source": [
    "data={'execution_time_py':[0.02782440185546875],'execution_time_sql':[0.01948690414428711]}"
   ]
  },
  {
   "cell_type": "code",
   "execution_count": 23,
   "id": "f7f676e8",
   "metadata": {},
   "outputs": [],
   "source": [
    "df=pd.DataFrame(data)"
   ]
  },
  {
   "cell_type": "code",
   "execution_count": 24,
   "id": "eaa3b73d",
   "metadata": {},
   "outputs": [
    {
     "data": {
      "text/html": [
       "<div>\n",
       "<style scoped>\n",
       "    .dataframe tbody tr th:only-of-type {\n",
       "        vertical-align: middle;\n",
       "    }\n",
       "\n",
       "    .dataframe tbody tr th {\n",
       "        vertical-align: top;\n",
       "    }\n",
       "\n",
       "    .dataframe thead th {\n",
       "        text-align: right;\n",
       "    }\n",
       "</style>\n",
       "<table border=\"1\" class=\"dataframe\">\n",
       "  <thead>\n",
       "    <tr style=\"text-align: right;\">\n",
       "      <th></th>\n",
       "      <th>execution_time_py</th>\n",
       "      <th>execution_time_sql</th>\n",
       "    </tr>\n",
       "  </thead>\n",
       "  <tbody>\n",
       "    <tr>\n",
       "      <th>0</th>\n",
       "      <td>0.027824</td>\n",
       "      <td>0.019487</td>\n",
       "    </tr>\n",
       "  </tbody>\n",
       "</table>\n",
       "</div>"
      ],
      "text/plain": [
       "   execution_time_py  execution_time_sql\n",
       "0           0.027824            0.019487"
      ]
     },
     "execution_count": 24,
     "metadata": {},
     "output_type": "execute_result"
    }
   ],
   "source": [
    "df"
   ]
  },
  {
   "cell_type": "code",
   "execution_count": 20,
   "id": "10b83ead",
   "metadata": {},
   "outputs": [
    {
     "name": "stdout",
     "output_type": "stream",
     "text": [
      "Welcome to the Form Filling Application!\n",
      "Enter your name: Preksha Prakash\n",
      "Enter your city: Mumbai\n",
      "Enter your contact number: 786754622\n",
      "\n",
      "Thank you for filling up the form!\n",
      "Here is the information you provided:\n",
      "Name: Preksha Prakash\n",
      "City: Mumbai\n",
      "Contact Number: 786754622\n"
     ]
    }
   ],
   "source": [
    "def get_user_input():\n",
    "    print(\"Welcome to the Form Filling Application!\")\n",
    "    \n",
    "    name = input(\"Enter your name: \")\n",
    "    city = input(\"Enter your city: \")\n",
    "    contact_number = input(\"Enter your contact number: \")\n",
    "    \n",
    "    return name, city, contact_number\n",
    "\n",
    "def main():\n",
    "    name, city, contact_number = get_user_input()\n",
    "    \n",
    "    print(\"\\nThank you for filling up the form!\")\n",
    "    print(\"Here is the information you provided:\")\n",
    "    print(f\"Name: {name}\")\n",
    "    print(f\"City: {city}\")\n",
    "    print(f\"Contact Number: {contact_number}\")\n",
    "\n",
    "if __name__ == \"__main__\":\n",
    "    main()"
   ]
  },
  {
   "cell_type": "code",
   "execution_count": 21,
   "id": "81e6c810",
   "metadata": {},
   "outputs": [
    {
     "ename": "InternalError",
     "evalue": "Unread result found",
     "output_type": "error",
     "traceback": [
      "\u001b[1;31m---------------------------------------------------------------------------\u001b[0m",
      "\u001b[1;31mInternalError\u001b[0m                             Traceback (most recent call last)",
      "Cell \u001b[1;32mIn[21], line 1\u001b[0m\n\u001b[1;32m----> 1\u001b[0m cur\u001b[38;5;241m.\u001b[39mclose()\n\u001b[0;32m      2\u001b[0m cnx\u001b[38;5;241m.\u001b[39mclose()\n",
      "File \u001b[1;32m~\\anaconda3\\Lib\\site-packages\\mysql\\connector\\cursor_cext.py:541\u001b[0m, in \u001b[0;36mCMySQLCursor.close\u001b[1;34m(self)\u001b[0m\n\u001b[0;32m    538\u001b[0m \u001b[38;5;28;01mif\u001b[39;00m \u001b[38;5;129;01mnot\u001b[39;00m \u001b[38;5;28mself\u001b[39m\u001b[38;5;241m.\u001b[39m_cnx:\n\u001b[0;32m    539\u001b[0m     \u001b[38;5;28;01mreturn\u001b[39;00m \u001b[38;5;28;01mFalse\u001b[39;00m\n\u001b[1;32m--> 541\u001b[0m \u001b[38;5;28mself\u001b[39m\u001b[38;5;241m.\u001b[39m_cnx\u001b[38;5;241m.\u001b[39mhandle_unread_result()\n\u001b[0;32m    542\u001b[0m \u001b[38;5;28mself\u001b[39m\u001b[38;5;241m.\u001b[39m_warnings \u001b[38;5;241m=\u001b[39m \u001b[38;5;28;01mNone\u001b[39;00m\n\u001b[0;32m    543\u001b[0m \u001b[38;5;28mself\u001b[39m\u001b[38;5;241m.\u001b[39m_cnx \u001b[38;5;241m=\u001b[39m \u001b[38;5;28;01mNone\u001b[39;00m\n",
      "File \u001b[1;32m~\\anaconda3\\Lib\\site-packages\\mysql\\connector\\connection_cext.py:990\u001b[0m, in \u001b[0;36mCMySQLConnection.handle_unread_result\u001b[1;34m(self, prepared)\u001b[0m\n\u001b[0;32m    988\u001b[0m     \u001b[38;5;28mself\u001b[39m\u001b[38;5;241m.\u001b[39mconsume_results()\n\u001b[0;32m    989\u001b[0m \u001b[38;5;28;01melif\u001b[39;00m unread_result:\n\u001b[1;32m--> 990\u001b[0m     \u001b[38;5;28;01mraise\u001b[39;00m InternalError(\u001b[38;5;124m\"\u001b[39m\u001b[38;5;124mUnread result found\u001b[39m\u001b[38;5;124m\"\u001b[39m)\n",
      "\u001b[1;31mInternalError\u001b[0m: Unread result found"
     ]
    }
   ],
   "source": [
    "cur.close()\n",
    "cnx.close()"
   ]
  },
  {
   "cell_type": "code",
   "execution_count": null,
   "id": "a7672623",
   "metadata": {},
   "outputs": [],
   "source": []
  }
 ],
 "metadata": {
  "kernelspec": {
   "display_name": "Python 3 (ipykernel)",
   "language": "python",
   "name": "python3"
  },
  "language_info": {
   "codemirror_mode": {
    "name": "ipython",
    "version": 3
   },
   "file_extension": ".py",
   "mimetype": "text/x-python",
   "name": "python",
   "nbconvert_exporter": "python",
   "pygments_lexer": "ipython3",
   "version": "3.11.5"
  }
 },
 "nbformat": 4,
 "nbformat_minor": 5
}
